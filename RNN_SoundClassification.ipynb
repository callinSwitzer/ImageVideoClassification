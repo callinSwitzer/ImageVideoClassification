{
 "cells": [
  {
   "cell_type": "markdown",
   "metadata": {},
   "source": [
    "### Callin Switzer\n",
    "### Use RNN to process sounds\n",
    "\n"
   ]
  },
  {
   "cell_type": "code",
   "execution_count": 2,
   "metadata": {},
   "outputs": [
    {
     "name": "stdout",
     "output_type": "stream",
     "text": [
      "TensorFlow successfully installed.\n",
      "The installed version of TensorFlow includes GPU support.\n",
      "3.6.4 |Anaconda custom (64-bit)| (default, Jan 16 2018, 10:22:32) [MSC v.1900 64 bit (AMD64)] \n",
      "\n",
      "last run on 2018-10-05 07:10:45.745128\n"
     ]
    }
   ],
   "source": [
    "import pandas as pd\n",
    "import numpy as np\n",
    "%matplotlib inline\n",
    "import matplotlib.pyplot as plt\n",
    "from matplotlib import gridspec\n",
    "import seaborn as sns\n",
    "import os\n",
    "import csv\n",
    "import time\n",
    "from scipy import signal\n",
    "import itertools as it\n",
    "import sys\n",
    "from datetime import datetime\n",
    "from sklearn.preprocessing import StandardScaler\n",
    "import scipy.io\n",
    "import glob\n",
    "import itertools\n",
    "\n",
    "# Neural net libs\n",
    "from keras.models import Sequential\n",
    "from keras.layers import Dense\n",
    "import tensorflow as tf\n",
    "print(\"TensorFlow successfully installed.\")\n",
    "if tf.test.is_built_with_cuda():\n",
    "    print(\"The installed version of TensorFlow includes GPU support.\")\n",
    "\n",
    "print(sys.version, \"\\n\")\n",
    "print(\"last run on \" + str(datetime.now()))"
   ]
  },
  {
   "cell_type": "code",
   "execution_count": 3,
   "metadata": {},
   "outputs": [
    {
     "name": "stdout",
     "output_type": "stream",
     "text": [
      "D:\\Dropbox\\SonicationBehavior\\SonBehData\n"
     ]
    }
   ],
   "source": [
    "\n",
    "def windowsOrMacDirectories():\n",
    "    \"\"\" Sets base directories for win or mac\n",
    "\n",
    "       \n",
    "    \"\"\"\n",
    "    if os.environ['COMPUTERNAME'] == 'SHEALMACLEARN':\n",
    "        DropboxDirect = os.path.join(\"D:\\Dropbox\")\n",
    "#     elif sys.platform.startswith('linux') or sys.platform.startswith('cygwin'):\n",
    "#         # this excludes your current terminal \"/dev/tty\"\n",
    "    elif sys.platform.startswith('darwin'):\n",
    "        DropboxDirect = os.path.join(\"/Users/cswitzer/Dropbox\")\n",
    "    else:\n",
    "        raise EnvironmentError('Unknown computer platform')\n",
    "    \n",
    "    baseDir = os.getcwd()\n",
    "    dataDir = os.path.join(DropboxDirect, 'SonicationBehavior', 'SonBehData')\n",
    "    figDir = os.path.join(DropboxDirect, 'SonicationBehavior', 'SonBehFigs')\n",
    "    return baseDir, dataDir, figDir\n",
    "\n",
    "\n",
    "baseDir, dataDir, figDir = windowsOrMacDirectories()\n",
    "print(dataDir)"
   ]
  },
  {
   "cell_type": "code",
   "execution_count": 4,
   "metadata": {},
   "outputs": [],
   "source": [
    "def readMyFile(filename):\n",
    "    \n",
    "    '''Read in csv 10x faster than pandas'''\n",
    "    \n",
    "    tmpdta = []\n",
    " \n",
    "    with open(filename, newline=\"\\n\") as csvDataFile:\n",
    "        csvReader = csv.reader(csvDataFile, delimiter=' ', quoting=csv.QUOTE_NONNUMERIC)\n",
    "        for row in csvReader:\n",
    "            tmpdta.append(row)\n",
    " \n",
    "    return(pd.DataFrame(np.transpose(tmpdta)))"
   ]
  },
  {
   "cell_type": "code",
   "execution_count": 5,
   "metadata": {},
   "outputs": [
    {
     "name": "stdout",
     "output_type": "stream",
     "text": [
      "(200, 7)\n"
     ]
    },
    {
     "data": {
      "text/html": [
       "<div>\n",
       "<style scoped>\n",
       "    .dataframe tbody tr th:only-of-type {\n",
       "        vertical-align: middle;\n",
       "    }\n",
       "\n",
       "    .dataframe tbody tr th {\n",
       "        vertical-align: top;\n",
       "    }\n",
       "\n",
       "    .dataframe thead th {\n",
       "        text-align: right;\n",
       "    }\n",
       "</style>\n",
       "<table border=\"1\" class=\"dataframe\">\n",
       "  <thead>\n",
       "    <tr style=\"text-align: right;\">\n",
       "      <th></th>\n",
       "      <th>fileName</th>\n",
       "      <th>noise1</th>\n",
       "      <th>noise2</th>\n",
       "      <th>wing1</th>\n",
       "      <th>wing2</th>\n",
       "      <th>buzz1</th>\n",
       "      <th>buzz2</th>\n",
       "    </tr>\n",
       "  </thead>\n",
       "  <tbody>\n",
       "    <tr>\n",
       "      <th>0</th>\n",
       "      <td>D:\\Dropbox\\SonicationBehavior\\SonBehData\\Sonic...</td>\n",
       "      <td>0</td>\n",
       "      <td>0</td>\n",
       "      <td>0</td>\n",
       "      <td>0</td>\n",
       "      <td>0</td>\n",
       "      <td>20000</td>\n",
       "    </tr>\n",
       "    <tr>\n",
       "      <th>1</th>\n",
       "      <td>D:\\Dropbox\\SonicationBehavior\\SonBehData\\Sonic...</td>\n",
       "      <td>0</td>\n",
       "      <td>0</td>\n",
       "      <td>10000</td>\n",
       "      <td>20000</td>\n",
       "      <td>0</td>\n",
       "      <td>10000</td>\n",
       "    </tr>\n",
       "    <tr>\n",
       "      <th>2</th>\n",
       "      <td>D:\\Dropbox\\SonicationBehavior\\SonBehData\\Sonic...</td>\n",
       "      <td>0</td>\n",
       "      <td>0</td>\n",
       "      <td>0</td>\n",
       "      <td>0</td>\n",
       "      <td>0</td>\n",
       "      <td>20000</td>\n",
       "    </tr>\n",
       "    <tr>\n",
       "      <th>3</th>\n",
       "      <td>D:\\Dropbox\\SonicationBehavior\\SonBehData\\Sonic...</td>\n",
       "      <td>0</td>\n",
       "      <td>0</td>\n",
       "      <td>3000</td>\n",
       "      <td>10000</td>\n",
       "      <td>12500</td>\n",
       "      <td>20000</td>\n",
       "    </tr>\n",
       "    <tr>\n",
       "      <th>4</th>\n",
       "      <td>D:\\Dropbox\\SonicationBehavior\\SonBehData\\Sonic...</td>\n",
       "      <td>0</td>\n",
       "      <td>0</td>\n",
       "      <td>0</td>\n",
       "      <td>0</td>\n",
       "      <td>0</td>\n",
       "      <td>20000</td>\n",
       "    </tr>\n",
       "  </tbody>\n",
       "</table>\n",
       "</div>"
      ],
      "text/plain": [
       "                                            fileName  noise1  noise2  wing1  \\\n",
       "0  D:\\Dropbox\\SonicationBehavior\\SonBehData\\Sonic...       0       0      0   \n",
       "1  D:\\Dropbox\\SonicationBehavior\\SonBehData\\Sonic...       0       0  10000   \n",
       "2  D:\\Dropbox\\SonicationBehavior\\SonBehData\\Sonic...       0       0      0   \n",
       "3  D:\\Dropbox\\SonicationBehavior\\SonBehData\\Sonic...       0       0   3000   \n",
       "4  D:\\Dropbox\\SonicationBehavior\\SonBehData\\Sonic...       0       0      0   \n",
       "\n",
       "   wing2  buzz1  buzz2  \n",
       "0      0      0  20000  \n",
       "1  20000      0  10000  \n",
       "2      0      0  20000  \n",
       "3  10000  12500  20000  \n",
       "4      0      0  20000  "
      ]
     },
     "execution_count": 5,
     "metadata": {},
     "output_type": "execute_result"
    }
   ],
   "source": [
    "# read in dataset that was pre-classified\n",
    "buzzClassDataDir = os.path.join(\"D:\\Dropbox\\SonicationBehavior\\SonBehData\\BuzzPartClassification\")\n",
    "buzzClass = pd.read_csv(os.path.join(buzzClassDataDir, 'BuzzClassifications.csv'))\n",
    "print(buzzClass.shape)\n",
    "buzzClass.head()"
   ]
  },
  {
   "cell_type": "code",
   "execution_count": 6,
   "metadata": {},
   "outputs": [
    {
     "name": "stdout",
     "output_type": "stream",
     "text": [
      "0\n",
      "10\n",
      "20\n",
      "30\n",
      "40\n",
      "50\n",
      "60\n",
      "70\n",
      "80\n",
      "90\n",
      "100\n",
      "110\n",
      "120\n",
      "130\n",
      "140\n",
      "150\n",
      "160\n",
      "170\n",
      "180\n",
      "190\n"
     ]
    }
   ],
   "source": [
    "# read in all data into a single dataframe\n",
    "bigList = []\n",
    "freqSpec = []\n",
    "for ii in range(buzzClass.shape[0]):\n",
    "    tmp = readMyFile(buzzClass.fileName[ii])\n",
    "    \n",
    "#     # pad with 0's\n",
    "#     tmp = readMyFile(buzzClass.fileName[ii])\n",
    "#     pad = np.arange(tmp.iloc[-1,0],tmp.iloc[-1,0]+ 0.02 - np.mean(np.diff(tmp.iloc[:,0])),  np.mean(np.diff(tmp.iloc[:,0])))\n",
    "#     zx = np.repeat(0, len(pad))\n",
    "#     pdff = pd.DataFrame( data = {\"0\":pad, \"1\":zx} )\n",
    "#     pdff.columns = tmp.columns\n",
    "\n",
    "#     tmp = pd.concat([tmp, pdff]).reset_index(drop = True)\n",
    "    \n",
    "    # calculate rolling variance\n",
    "    tmp[\"varia\"] = pd.Series((tmp.iloc[:,1] - np.mean(tmp.iloc[:,1]))).rolling(int(2000), center = True, min_periods = 1).var().tolist()\n",
    "    \n",
    "    # calculate frequency spectrum\n",
    "    f, t, Sxx = signal.spectrogram(tmp.iloc[:,1], 200000, noverlap = 900, nperseg = 1000)\n",
    "    Sxx = Sxx[0:50, :]\n",
    "    #scale\n",
    "    Sxx = Sxx - np.min(Sxx)\n",
    "    Sxx = Sxx / np.max(Sxx)\n",
    "    \n",
    "    \n",
    "    \n",
    "    freqSpec.append(pd.DataFrame(np.transpose(Sxx)))\n",
    "    \n",
    "    # add classes to data\n",
    "    tmp[\"buzz\"] = 0\n",
    "    tmp.loc[buzzClass.buzz1[ii]:buzzClass.buzz2[ii], \"buzz\"] = 1\n",
    "    if(np.mod(ii, 10)) == 0:\n",
    "        print(ii)\n",
    "    \n",
    "    tmp[\"filename\"] = buzzClass.fileName[ii]\n",
    "    bigList.append(tmp)"
   ]
  },
  {
   "cell_type": "code",
   "execution_count": 7,
   "metadata": {},
   "outputs": [
    {
     "data": {
      "text/html": [
       "<div>\n",
       "<style scoped>\n",
       "    .dataframe tbody tr th:only-of-type {\n",
       "        vertical-align: middle;\n",
       "    }\n",
       "\n",
       "    .dataframe tbody tr th {\n",
       "        vertical-align: top;\n",
       "    }\n",
       "\n",
       "    .dataframe thead th {\n",
       "        text-align: right;\n",
       "    }\n",
       "</style>\n",
       "<table border=\"1\" class=\"dataframe\">\n",
       "  <thead>\n",
       "    <tr style=\"text-align: right;\">\n",
       "      <th></th>\n",
       "      <th>0</th>\n",
       "      <th>1</th>\n",
       "      <th>varia</th>\n",
       "      <th>buzz</th>\n",
       "      <th>filename</th>\n",
       "    </tr>\n",
       "  </thead>\n",
       "  <tbody>\n",
       "    <tr>\n",
       "      <th>0</th>\n",
       "      <td>0.000000</td>\n",
       "      <td>0.063874</td>\n",
       "      <td>0.006357</td>\n",
       "      <td>1</td>\n",
       "      <td>D:\\Dropbox\\SonicationBehavior\\SonBehData\\Sonic...</td>\n",
       "    </tr>\n",
       "    <tr>\n",
       "      <th>1</th>\n",
       "      <td>0.000005</td>\n",
       "      <td>0.061602</td>\n",
       "      <td>0.006352</td>\n",
       "      <td>1</td>\n",
       "      <td>D:\\Dropbox\\SonicationBehavior\\SonBehData\\Sonic...</td>\n",
       "    </tr>\n",
       "    <tr>\n",
       "      <th>2</th>\n",
       "      <td>0.000010</td>\n",
       "      <td>0.060953</td>\n",
       "      <td>0.006348</td>\n",
       "      <td>1</td>\n",
       "      <td>D:\\Dropbox\\SonicationBehavior\\SonBehData\\Sonic...</td>\n",
       "    </tr>\n",
       "    <tr>\n",
       "      <th>3</th>\n",
       "      <td>0.000015</td>\n",
       "      <td>0.059655</td>\n",
       "      <td>0.006343</td>\n",
       "      <td>1</td>\n",
       "      <td>D:\\Dropbox\\SonicationBehavior\\SonBehData\\Sonic...</td>\n",
       "    </tr>\n",
       "    <tr>\n",
       "      <th>4</th>\n",
       "      <td>0.000020</td>\n",
       "      <td>0.059331</td>\n",
       "      <td>0.006339</td>\n",
       "      <td>1</td>\n",
       "      <td>D:\\Dropbox\\SonicationBehavior\\SonBehData\\Sonic...</td>\n",
       "    </tr>\n",
       "  </tbody>\n",
       "</table>\n",
       "</div>"
      ],
      "text/plain": [
       "          0         1     varia  buzz  \\\n",
       "0  0.000000  0.063874  0.006357     1   \n",
       "1  0.000005  0.061602  0.006352     1   \n",
       "2  0.000010  0.060953  0.006348     1   \n",
       "3  0.000015  0.059655  0.006343     1   \n",
       "4  0.000020  0.059331  0.006339     1   \n",
       "\n",
       "                                            filename  \n",
       "0  D:\\Dropbox\\SonicationBehavior\\SonBehData\\Sonic...  \n",
       "1  D:\\Dropbox\\SonicationBehavior\\SonBehData\\Sonic...  \n",
       "2  D:\\Dropbox\\SonicationBehavior\\SonBehData\\Sonic...  \n",
       "3  D:\\Dropbox\\SonicationBehavior\\SonBehData\\Sonic...  \n",
       "4  D:\\Dropbox\\SonicationBehavior\\SonBehData\\Sonic...  "
      ]
     },
     "execution_count": 7,
     "metadata": {},
     "output_type": "execute_result"
    }
   ],
   "source": [
    "tmp.head()"
   ]
  },
  {
   "cell_type": "code",
   "execution_count": null,
   "metadata": {},
   "outputs": [],
   "source": []
  },
  {
   "cell_type": "code",
   "execution_count": 421,
   "metadata": {},
   "outputs": [],
   "source": [
    "df = pd.concat(bigList)\n",
    "df.reset_index(drop = True, inplace = True)"
   ]
  },
  {
   "cell_type": "code",
   "execution_count": 422,
   "metadata": {},
   "outputs": [
    {
     "data": {
      "text/html": [
       "<div>\n",
       "<style scoped>\n",
       "    .dataframe tbody tr th:only-of-type {\n",
       "        vertical-align: middle;\n",
       "    }\n",
       "\n",
       "    .dataframe tbody tr th {\n",
       "        vertical-align: top;\n",
       "    }\n",
       "\n",
       "    .dataframe thead th {\n",
       "        text-align: right;\n",
       "    }\n",
       "</style>\n",
       "<table border=\"1\" class=\"dataframe\">\n",
       "  <thead>\n",
       "    <tr style=\"text-align: right;\">\n",
       "      <th></th>\n",
       "      <th>0</th>\n",
       "      <th>1</th>\n",
       "      <th>varia</th>\n",
       "      <th>buzz</th>\n",
       "      <th>filename</th>\n",
       "    </tr>\n",
       "  </thead>\n",
       "  <tbody>\n",
       "    <tr>\n",
       "      <th>0</th>\n",
       "      <td>0.000000</td>\n",
       "      <td>0.001246</td>\n",
       "      <td>0.002879</td>\n",
       "      <td>1</td>\n",
       "      <td>D:\\Dropbox\\SonicationBehavior\\SonBehData\\Sonic...</td>\n",
       "    </tr>\n",
       "    <tr>\n",
       "      <th>1</th>\n",
       "      <td>0.000005</td>\n",
       "      <td>0.001571</td>\n",
       "      <td>0.002876</td>\n",
       "      <td>1</td>\n",
       "      <td>D:\\Dropbox\\SonicationBehavior\\SonBehData\\Sonic...</td>\n",
       "    </tr>\n",
       "    <tr>\n",
       "      <th>2</th>\n",
       "      <td>0.000010</td>\n",
       "      <td>-0.001999</td>\n",
       "      <td>0.002873</td>\n",
       "      <td>1</td>\n",
       "      <td>D:\\Dropbox\\SonicationBehavior\\SonBehData\\Sonic...</td>\n",
       "    </tr>\n",
       "    <tr>\n",
       "      <th>3</th>\n",
       "      <td>0.000015</td>\n",
       "      <td>0.002544</td>\n",
       "      <td>0.002871</td>\n",
       "      <td>1</td>\n",
       "      <td>D:\\Dropbox\\SonicationBehavior\\SonBehData\\Sonic...</td>\n",
       "    </tr>\n",
       "    <tr>\n",
       "      <th>4</th>\n",
       "      <td>0.000020</td>\n",
       "      <td>0.004167</td>\n",
       "      <td>0.002869</td>\n",
       "      <td>1</td>\n",
       "      <td>D:\\Dropbox\\SonicationBehavior\\SonBehData\\Sonic...</td>\n",
       "    </tr>\n",
       "  </tbody>\n",
       "</table>\n",
       "</div>"
      ],
      "text/plain": [
       "          0         1     varia  buzz  \\\n",
       "0  0.000000  0.001246  0.002879     1   \n",
       "1  0.000005  0.001571  0.002876     1   \n",
       "2  0.000010 -0.001999  0.002873     1   \n",
       "3  0.000015  0.002544  0.002871     1   \n",
       "4  0.000020  0.004167  0.002869     1   \n",
       "\n",
       "                                            filename  \n",
       "0  D:\\Dropbox\\SonicationBehavior\\SonBehData\\Sonic...  \n",
       "1  D:\\Dropbox\\SonicationBehavior\\SonBehData\\Sonic...  \n",
       "2  D:\\Dropbox\\SonicationBehavior\\SonBehData\\Sonic...  \n",
       "3  D:\\Dropbox\\SonicationBehavior\\SonBehData\\Sonic...  \n",
       "4  D:\\Dropbox\\SonicationBehavior\\SonBehData\\Sonic...  "
      ]
     },
     "execution_count": 422,
     "metadata": {},
     "output_type": "execute_result"
    }
   ],
   "source": [
    "df.head()"
   ]
  },
  {
   "cell_type": "code",
   "execution_count": 423,
   "metadata": {},
   "outputs": [],
   "source": [
    "df.rename( columns={1: \"acc\"}, inplace=True)"
   ]
  },
  {
   "cell_type": "code",
   "execution_count": 424,
   "metadata": {},
   "outputs": [
    {
     "data": {
      "text/html": [
       "<div>\n",
       "<style scoped>\n",
       "    .dataframe tbody tr th:only-of-type {\n",
       "        vertical-align: middle;\n",
       "    }\n",
       "\n",
       "    .dataframe tbody tr th {\n",
       "        vertical-align: top;\n",
       "    }\n",
       "\n",
       "    .dataframe thead th {\n",
       "        text-align: right;\n",
       "    }\n",
       "</style>\n",
       "<table border=\"1\" class=\"dataframe\">\n",
       "  <thead>\n",
       "    <tr style=\"text-align: right;\">\n",
       "      <th></th>\n",
       "      <th>0</th>\n",
       "      <th>acc</th>\n",
       "      <th>varia</th>\n",
       "      <th>buzz</th>\n",
       "      <th>filename</th>\n",
       "      <th>acc_scaled</th>\n",
       "    </tr>\n",
       "  </thead>\n",
       "  <tbody>\n",
       "    <tr>\n",
       "      <th>0</th>\n",
       "      <td>0.000000</td>\n",
       "      <td>0.001246</td>\n",
       "      <td>0.002879</td>\n",
       "      <td>1</td>\n",
       "      <td>D:\\Dropbox\\SonicationBehavior\\SonBehData\\Sonic...</td>\n",
       "      <td>0.086992</td>\n",
       "    </tr>\n",
       "    <tr>\n",
       "      <th>1</th>\n",
       "      <td>0.000005</td>\n",
       "      <td>0.001571</td>\n",
       "      <td>0.002876</td>\n",
       "      <td>1</td>\n",
       "      <td>D:\\Dropbox\\SonicationBehavior\\SonBehData\\Sonic...</td>\n",
       "      <td>0.087805</td>\n",
       "    </tr>\n",
       "    <tr>\n",
       "      <th>2</th>\n",
       "      <td>0.000010</td>\n",
       "      <td>-0.001999</td>\n",
       "      <td>0.002873</td>\n",
       "      <td>1</td>\n",
       "      <td>D:\\Dropbox\\SonicationBehavior\\SonBehData\\Sonic...</td>\n",
       "      <td>0.078862</td>\n",
       "    </tr>\n",
       "    <tr>\n",
       "      <th>3</th>\n",
       "      <td>0.000015</td>\n",
       "      <td>0.002544</td>\n",
       "      <td>0.002871</td>\n",
       "      <td>1</td>\n",
       "      <td>D:\\Dropbox\\SonicationBehavior\\SonBehData\\Sonic...</td>\n",
       "      <td>0.090244</td>\n",
       "    </tr>\n",
       "    <tr>\n",
       "      <th>4</th>\n",
       "      <td>0.000020</td>\n",
       "      <td>0.004167</td>\n",
       "      <td>0.002869</td>\n",
       "      <td>1</td>\n",
       "      <td>D:\\Dropbox\\SonicationBehavior\\SonBehData\\Sonic...</td>\n",
       "      <td>0.094309</td>\n",
       "    </tr>\n",
       "  </tbody>\n",
       "</table>\n",
       "</div>"
      ],
      "text/plain": [
       "          0       acc     varia  buzz  \\\n",
       "0  0.000000  0.001246  0.002879     1   \n",
       "1  0.000005  0.001571  0.002876     1   \n",
       "2  0.000010 -0.001999  0.002873     1   \n",
       "3  0.000015  0.002544  0.002871     1   \n",
       "4  0.000020  0.004167  0.002869     1   \n",
       "\n",
       "                                            filename  acc_scaled  \n",
       "0  D:\\Dropbox\\SonicationBehavior\\SonBehData\\Sonic...    0.086992  \n",
       "1  D:\\Dropbox\\SonicationBehavior\\SonBehData\\Sonic...    0.087805  \n",
       "2  D:\\Dropbox\\SonicationBehavior\\SonBehData\\Sonic...    0.078862  \n",
       "3  D:\\Dropbox\\SonicationBehavior\\SonBehData\\Sonic...    0.090244  \n",
       "4  D:\\Dropbox\\SonicationBehavior\\SonBehData\\Sonic...    0.094309  "
      ]
     },
     "execution_count": 424,
     "metadata": {},
     "output_type": "execute_result"
    }
   ],
   "source": [
    "# scale data\n",
    "from sklearn.preprocessing import minmax_scale\n",
    "\n",
    "df['acc_scaled'] = df.groupby('filename').acc.transform(lambda x: minmax_scale(x.astype(float), feature_range = (-1,1)))\n",
    "\n",
    "# from sklearn.preprocessing import robust_scale\n",
    "# df['acc_scaled'] = df.groupby('filename').acc.transform(lambda x: scale(x.astype(float)))\n",
    "\n",
    "\n",
    "df.head()"
   ]
  },
  {
   "cell_type": "code",
   "execution_count": 425,
   "metadata": {},
   "outputs": [
    {
     "data": {
      "text/plain": [
       "[<matplotlib.lines.Line2D at 0x1a85d5e5710>]"
      ]
     },
     "execution_count": 425,
     "metadata": {},
     "output_type": "execute_result"
    },
    {
     "data": {
      "image/png": "[encoded data removed]",
      "text/plain": [
       "<matplotlib.figure.Figure at 0x1a85d60c780>"
      ]
     },
     "metadata": {},
     "output_type": "display_data"
    }
   ],
   "source": [
    "plt.plot(np.array(df.acc_scaled[0:1000]))"
   ]
  },
  {
   "cell_type": "code",
   "execution_count": 426,
   "metadata": {},
   "outputs": [
    {
     "data": {
      "image/png": "[encoded data removed]",
      "text/plain": [
       "<matplotlib.figure.Figure at 0x1a7dfe9bcf8>"
      ]
     },
     "metadata": {},
     "output_type": "display_data"
    }
   ],
   "source": [
    "\n",
    "#plt.plot(np.array(df.iloc[0:200000, 3]))\n",
    "\n",
    "ss = 3\n",
    "\n",
    "y1 = np.array(df.iloc[0:200000, 3])*ss - 0.5*ss\n",
    "xx = np.linspace(0, len(y1) / 200000,num = len(y1) )\n",
    "y2 = np.array(df.iloc[0:200000, 5])\n",
    "\n",
    "\n",
    "fig = plt.figure(figsize = (10,4))\n",
    "ax = fig.add_subplot(1, 1, 1)\n",
    "\n",
    "# Hide the right and top spines\n",
    "ax.spines['right'].set_visible(False)\n",
    "ax.spines['top'].set_visible(False)\n",
    "\n",
    "# Only show ticks on the left and bottom spines\n",
    "ax.yaxis.set_ticks_position('left')\n",
    "ax.xaxis.set_ticks_position('bottom')\n",
    "ax.plot(xx, y2, linewidth = 0.9, c = 'black')\n",
    "ax.fill_between(xx,y1,-0.5*ss, alpha = 0.5, linewidth = 0)\n",
    "ax.set_xlabel(\"Time (s)\")\n",
    "ax.set_ylabel(\"Scaled Accleration\")\n",
    "#ax.set_ylim(-0.5, 1.5)\n",
    "#plt.xticks([])\n",
    "#plt.yticks([])\n",
    "\n",
    "plt.savefig(os.path.join(figDir, \"NNSeq1.png\"), dpi = 500)"
   ]
  },
  {
   "cell_type": "code",
   "execution_count": 429,
   "metadata": {},
   "outputs": [
    {
     "data": {
      "text/plain": [
       "(1000000, 1)"
      ]
     },
     "execution_count": 429,
     "metadata": {},
     "output_type": "execute_result"
    }
   ],
   "source": [
    "# downsample\n",
    "dss = np.arange(0, df.shape[0], step = 4)\n",
    "\n",
    "Y = pd.DataFrame(df.loc[dss, \"buzz\"].values)\n",
    "X =  pd.DataFrame(df.loc[dss, \"acc_scaled\"].values)\n",
    "X.shape"
   ]
  },
  {
   "cell_type": "code",
   "execution_count": 430,
   "metadata": {},
   "outputs": [
    {
     "data": {
      "text/plain": [
       "[<matplotlib.lines.Line2D at 0x1abe4ceaf28>]"
      ]
     },
     "execution_count": 430,
     "metadata": {},
     "output_type": "execute_result"
    },
    {
     "data": {
      "image/png": "[encoded data removed]",
      "text/plain": [
       "<matplotlib.figure.Figure at 0x1abe3e740b8>"
      ]
     },
     "metadata": {},
     "output_type": "display_data"
    }
   ],
   "source": [
    "plt.plot(X[0:500])"
   ]
  },
  {
   "cell_type": "code",
   "execution_count": 431,
   "metadata": {},
   "outputs": [],
   "source": [
    "# add windows\n",
    "for s in np.arange(1, 500):\n",
    "    X['shift_{}'.format(s)] = X[0].shift(s)\n",
    "    X['shift_{}'.format(s)] = X[0].shift(s)\n"
   ]
  },
  {
   "cell_type": "code",
   "execution_count": 432,
   "metadata": {},
   "outputs": [],
   "source": [
    "split_index=  int(0.8*X.shape[0])\n",
    "\n",
    "train_x = X[:split_index].copy()\n",
    "test_x = X[split_index:].copy()\n",
    "\n",
    "train_y = Y[:split_index].copy()\n",
    "test_y = Y[split_index:].copy()"
   ]
  },
  {
   "cell_type": "code",
   "execution_count": 433,
   "metadata": {},
   "outputs": [
    {
     "data": {
      "text/html": [
       "<div>\n",
       "<style scoped>\n",
       "    .dataframe tbody tr th:only-of-type {\n",
       "        vertical-align: middle;\n",
       "    }\n",
       "\n",
       "    .dataframe tbody tr th {\n",
       "        vertical-align: top;\n",
       "    }\n",
       "\n",
       "    .dataframe thead th {\n",
       "        text-align: right;\n",
       "    }\n",
       "</style>\n",
       "<table border=\"1\" class=\"dataframe\">\n",
       "  <thead>\n",
       "    <tr style=\"text-align: right;\">\n",
       "      <th></th>\n",
       "      <th>0</th>\n",
       "    </tr>\n",
       "  </thead>\n",
       "  <tbody>\n",
       "    <tr>\n",
       "      <th>800000</th>\n",
       "      <td>0</td>\n",
       "    </tr>\n",
       "    <tr>\n",
       "      <th>800001</th>\n",
       "      <td>0</td>\n",
       "    </tr>\n",
       "    <tr>\n",
       "      <th>800002</th>\n",
       "      <td>0</td>\n",
       "    </tr>\n",
       "    <tr>\n",
       "      <th>800003</th>\n",
       "      <td>0</td>\n",
       "    </tr>\n",
       "    <tr>\n",
       "      <th>800004</th>\n",
       "      <td>0</td>\n",
       "    </tr>\n",
       "  </tbody>\n",
       "</table>\n",
       "</div>"
      ],
      "text/plain": [
       "        0\n",
       "800000  0\n",
       "800001  0\n",
       "800002  0\n",
       "800003  0\n",
       "800004  0"
      ]
     },
     "execution_count": 433,
     "metadata": {},
     "output_type": "execute_result"
    }
   ],
   "source": [
    "test_y.head()"
   ]
  },
  {
   "cell_type": "code",
   "execution_count": 434,
   "metadata": {},
   "outputs": [
    {
     "data": {
      "text/html": [
       "<div>\n",
       "<style scoped>\n",
       "    .dataframe tbody tr th:only-of-type {\n",
       "        vertical-align: middle;\n",
       "    }\n",
       "\n",
       "    .dataframe tbody tr th {\n",
       "        vertical-align: top;\n",
       "    }\n",
       "\n",
       "    .dataframe thead th {\n",
       "        text-align: right;\n",
       "    }\n",
       "</style>\n",
       "<table border=\"1\" class=\"dataframe\">\n",
       "  <thead>\n",
       "    <tr style=\"text-align: right;\">\n",
       "      <th></th>\n",
       "      <th>0</th>\n",
       "      <th>shift_1</th>\n",
       "      <th>shift_2</th>\n",
       "      <th>shift_3</th>\n",
       "      <th>shift_4</th>\n",
       "      <th>shift_5</th>\n",
       "      <th>shift_6</th>\n",
       "      <th>shift_7</th>\n",
       "      <th>shift_8</th>\n",
       "      <th>shift_9</th>\n",
       "      <th>...</th>\n",
       "      <th>shift_490</th>\n",
       "      <th>shift_491</th>\n",
       "      <th>shift_492</th>\n",
       "      <th>shift_493</th>\n",
       "      <th>shift_494</th>\n",
       "      <th>shift_495</th>\n",
       "      <th>shift_496</th>\n",
       "      <th>shift_497</th>\n",
       "      <th>shift_498</th>\n",
       "      <th>shift_499</th>\n",
       "    </tr>\n",
       "  </thead>\n",
       "  <tbody>\n",
       "    <tr>\n",
       "      <th>0</th>\n",
       "      <td>0.086992</td>\n",
       "      <td>NaN</td>\n",
       "      <td>NaN</td>\n",
       "      <td>NaN</td>\n",
       "      <td>NaN</td>\n",
       "      <td>NaN</td>\n",
       "      <td>NaN</td>\n",
       "      <td>NaN</td>\n",
       "      <td>NaN</td>\n",
       "      <td>NaN</td>\n",
       "      <td>...</td>\n",
       "      <td>NaN</td>\n",
       "      <td>NaN</td>\n",
       "      <td>NaN</td>\n",
       "      <td>NaN</td>\n",
       "      <td>NaN</td>\n",
       "      <td>NaN</td>\n",
       "      <td>NaN</td>\n",
       "      <td>NaN</td>\n",
       "      <td>NaN</td>\n",
       "      <td>NaN</td>\n",
       "    </tr>\n",
       "    <tr>\n",
       "      <th>1</th>\n",
       "      <td>0.094309</td>\n",
       "      <td>0.086992</td>\n",
       "      <td>NaN</td>\n",
       "      <td>NaN</td>\n",
       "      <td>NaN</td>\n",
       "      <td>NaN</td>\n",
       "      <td>NaN</td>\n",
       "      <td>NaN</td>\n",
       "      <td>NaN</td>\n",
       "      <td>NaN</td>\n",
       "      <td>...</td>\n",
       "      <td>NaN</td>\n",
       "      <td>NaN</td>\n",
       "      <td>NaN</td>\n",
       "      <td>NaN</td>\n",
       "      <td>NaN</td>\n",
       "      <td>NaN</td>\n",
       "      <td>NaN</td>\n",
       "      <td>NaN</td>\n",
       "      <td>NaN</td>\n",
       "      <td>NaN</td>\n",
       "    </tr>\n",
       "    <tr>\n",
       "      <th>2</th>\n",
       "      <td>0.084553</td>\n",
       "      <td>0.094309</td>\n",
       "      <td>0.086992</td>\n",
       "      <td>NaN</td>\n",
       "      <td>NaN</td>\n",
       "      <td>NaN</td>\n",
       "      <td>NaN</td>\n",
       "      <td>NaN</td>\n",
       "      <td>NaN</td>\n",
       "      <td>NaN</td>\n",
       "      <td>...</td>\n",
       "      <td>NaN</td>\n",
       "      <td>NaN</td>\n",
       "      <td>NaN</td>\n",
       "      <td>NaN</td>\n",
       "      <td>NaN</td>\n",
       "      <td>NaN</td>\n",
       "      <td>NaN</td>\n",
       "      <td>NaN</td>\n",
       "      <td>NaN</td>\n",
       "      <td>NaN</td>\n",
       "    </tr>\n",
       "    <tr>\n",
       "      <th>3</th>\n",
       "      <td>0.086992</td>\n",
       "      <td>0.084553</td>\n",
       "      <td>0.094309</td>\n",
       "      <td>0.086992</td>\n",
       "      <td>NaN</td>\n",
       "      <td>NaN</td>\n",
       "      <td>NaN</td>\n",
       "      <td>NaN</td>\n",
       "      <td>NaN</td>\n",
       "      <td>NaN</td>\n",
       "      <td>...</td>\n",
       "      <td>NaN</td>\n",
       "      <td>NaN</td>\n",
       "      <td>NaN</td>\n",
       "      <td>NaN</td>\n",
       "      <td>NaN</td>\n",
       "      <td>NaN</td>\n",
       "      <td>NaN</td>\n",
       "      <td>NaN</td>\n",
       "      <td>NaN</td>\n",
       "      <td>NaN</td>\n",
       "    </tr>\n",
       "    <tr>\n",
       "      <th>4</th>\n",
       "      <td>0.086992</td>\n",
       "      <td>0.086992</td>\n",
       "      <td>0.084553</td>\n",
       "      <td>0.094309</td>\n",
       "      <td>0.086992</td>\n",
       "      <td>NaN</td>\n",
       "      <td>NaN</td>\n",
       "      <td>NaN</td>\n",
       "      <td>NaN</td>\n",
       "      <td>NaN</td>\n",
       "      <td>...</td>\n",
       "      <td>NaN</td>\n",
       "      <td>NaN</td>\n",
       "      <td>NaN</td>\n",
       "      <td>NaN</td>\n",
       "      <td>NaN</td>\n",
       "      <td>NaN</td>\n",
       "      <td>NaN</td>\n",
       "      <td>NaN</td>\n",
       "      <td>NaN</td>\n",
       "      <td>NaN</td>\n",
       "    </tr>\n",
       "  </tbody>\n",
       "</table>\n",
       "<p>5 rows × 500 columns</p>\n",
       "</div>"
      ],
      "text/plain": [
       "          0   shift_1   shift_2   shift_3   shift_4  shift_5  shift_6  \\\n",
       "0  0.086992       NaN       NaN       NaN       NaN      NaN      NaN   \n",
       "1  0.094309  0.086992       NaN       NaN       NaN      NaN      NaN   \n",
       "2  0.084553  0.094309  0.086992       NaN       NaN      NaN      NaN   \n",
       "3  0.086992  0.084553  0.094309  0.086992       NaN      NaN      NaN   \n",
       "4  0.086992  0.086992  0.084553  0.094309  0.086992      NaN      NaN   \n",
       "\n",
       "   shift_7  shift_8  shift_9    ...      shift_490  shift_491  shift_492  \\\n",
       "0      NaN      NaN      NaN    ...            NaN        NaN        NaN   \n",
       "1      NaN      NaN      NaN    ...            NaN        NaN        NaN   \n",
       "2      NaN      NaN      NaN    ...            NaN        NaN        NaN   \n",
       "3      NaN      NaN      NaN    ...            NaN        NaN        NaN   \n",
       "4      NaN      NaN      NaN    ...            NaN        NaN        NaN   \n",
       "\n",
       "   shift_493  shift_494  shift_495  shift_496  shift_497  shift_498  shift_499  \n",
       "0        NaN        NaN        NaN        NaN        NaN        NaN        NaN  \n",
       "1        NaN        NaN        NaN        NaN        NaN        NaN        NaN  \n",
       "2        NaN        NaN        NaN        NaN        NaN        NaN        NaN  \n",
       "3        NaN        NaN        NaN        NaN        NaN        NaN        NaN  \n",
       "4        NaN        NaN        NaN        NaN        NaN        NaN        NaN  \n",
       "\n",
       "[5 rows x 500 columns]"
      ]
     },
     "execution_count": 434,
     "metadata": {},
     "output_type": "execute_result"
    }
   ],
   "source": [
    "train_x.head()"
   ]
  },
  {
   "cell_type": "code",
   "execution_count": 435,
   "metadata": {},
   "outputs": [],
   "source": [
    "train_x.iloc[:, 0] = train_y.iloc[:,0]"
   ]
  },
  {
   "cell_type": "code",
   "execution_count": 436,
   "metadata": {},
   "outputs": [],
   "source": [
    "X_train = train_x.dropna().drop(0, axis=1)\n",
    "y_train = train_x.dropna()[[0]]\n",
    "\n",
    "X_test = test_x.dropna().drop(0, axis=1)\n",
    "y_test = test_y.dropna()[[0]]"
   ]
  },
  {
   "cell_type": "code",
   "execution_count": 437,
   "metadata": {},
   "outputs": [
    {
     "data": {
      "text/plain": [
       "[<matplotlib.lines.Line2D at 0x1abe59205f8>]"
      ]
     },
     "execution_count": 437,
     "metadata": {},
     "output_type": "execute_result"
    },
    {
     "data": {
      "image/png": "[encoded data removed]",
      "text/plain": [
       "<matplotlib.figure.Figure at 0x1a85fe0eb38>"
      ]
     },
     "metadata": {},
     "output_type": "display_data"
    }
   ],
   "source": [
    "plt.plot(np.array(X_train.iloc[0,:]))"
   ]
  },
  {
   "cell_type": "code",
   "execution_count": 438,
   "metadata": {},
   "outputs": [],
   "source": [
    "X_train = X_train.values\n",
    "X_test= X_test.values\n",
    "\n",
    "y_train = y_train.values\n",
    "y_test = y_test.values"
   ]
  },
  {
   "cell_type": "code",
   "execution_count": 439,
   "metadata": {},
   "outputs": [
    {
     "data": {
      "text/plain": [
       "((799501, 499), (200000, 499), (799501, 1), (200000, 1))"
      ]
     },
     "execution_count": 439,
     "metadata": {},
     "output_type": "execute_result"
    }
   ],
   "source": [
    "X_train.shape, X_test.shape, y_train.shape, y_test.shape"
   ]
  },
  {
   "cell_type": "code",
   "execution_count": 440,
   "metadata": {},
   "outputs": [],
   "source": [
    "from keras.layers.core import Dense, Activation, Dropout\n",
    "from keras.layers.recurrent import LSTM\n",
    "from keras.models import Sequential\n",
    "from keras.callbacks import EarlyStopping,ReduceLROnPlateau\n",
    "from keras.layers import BatchNormalization\n",
    "import keras.backend as K\n",
    "from keras.callbacks import EarlyStopping\n",
    "earlystop = EarlyStopping(patience=10, \n",
    "                          verbose=1, mode='auto', min_delta = 0.01)"
   ]
  },
  {
   "cell_type": "markdown",
   "metadata": {},
   "source": [
    "# fully connected network with on windows"
   ]
  },
  {
   "cell_type": "code",
   "execution_count": 394,
   "metadata": {},
   "outputs": [
    {
     "name": "stdout",
     "output_type": "stream",
     "text": [
      "_________________________________________________________________\n",
      "Layer (type)                 Output Shape              Param #   \n",
      "=================================================================\n",
      "dense_1 (Dense)              (None, 1)                 500       \n",
      "_________________________________________________________________\n",
      "dense_2 (Dense)              (None, 64)                128       \n",
      "_________________________________________________________________\n",
      "dense_3 (Dense)              (None, 64)                4160      \n",
      "_________________________________________________________________\n",
      "dense_4 (Dense)              (None, 16)                1040      \n",
      "_________________________________________________________________\n",
      "dense_5 (Dense)              (None, 1)                 17        \n",
      "=================================================================\n",
      "Total params: 5,845\n",
      "Trainable params: 5,845\n",
      "Non-trainable params: 0\n",
      "_________________________________________________________________\n"
     ]
    }
   ],
   "source": [
    "K.clear_session()\n",
    "\n",
    "model = Sequential()\n",
    "model.add(Dense(1, input_dim=X_train.shape[1], activation='tanh'))\n",
    "model.add(Dense(64, activation='tanh'))\n",
    "# model.add(BatchNormalization())\n",
    "# model.add(Dropout(0.2))\n",
    "model.add(Dense(64, activation='tanh'))\n",
    "# model.add(BatchNormalization())\n",
    "# model.add(Dropout(0.2))\n",
    "model.add(Dense(16, activation='tanh'))\n",
    "# model.add(BatchNormalization())\n",
    "# model.add(Dropout(0.2))\n",
    "model.add(Dense(1, activation = \"sigmoid\"))\n",
    "model.compile(loss='binary_crossentropy', optimizer='adam', metrics=['binary_accuracy'])\n",
    "model.summary()\n"
   ]
  },
  {
   "cell_type": "code",
   "execution_count": 397,
   "metadata": {},
   "outputs": [
    {
     "name": "stdout",
     "output_type": "stream",
     "text": [
      "Train on 106168 samples, validate on 26667 samples\n",
      "Epoch 1/10\n",
      "106168/106168 [==============================] - 1s 11us/step - loss: 0.6041 - binary_accuracy: 0.7047 - val_loss: 0.5950 - val_binary_accuracy: 0.7198\n",
      "Epoch 2/10\n",
      "106168/106168 [==============================] - 1s 11us/step - loss: 0.6039 - binary_accuracy: 0.7114 - val_loss: 0.5942 - val_binary_accuracy: 0.7299\n",
      "Epoch 3/10\n",
      "106168/106168 [==============================] - 1s 11us/step - loss: 0.6028 - binary_accuracy: 0.7166 - val_loss: 0.5916 - val_binary_accuracy: 0.7299\n",
      "Epoch 4/10\n",
      "106168/106168 [==============================] - 1s 11us/step - loss: 0.6007 - binary_accuracy: 0.7182 - val_loss: 0.5883 - val_binary_accuracy: 0.7299\n",
      "Epoch 5/10\n",
      "106168/106168 [==============================] - 1s 11us/step - loss: 0.5986 - binary_accuracy: 0.7182 - val_loss: 0.5856 - val_binary_accuracy: 0.7299\n",
      "Epoch 6/10\n",
      "106168/106168 [==============================] - 1s 11us/step - loss: 0.5973 - binary_accuracy: 0.7182 - val_loss: 0.5839 - val_binary_accuracy: 0.7299\n",
      "Epoch 7/10\n",
      "106168/106168 [==============================] - 1s 11us/step - loss: 0.5968 - binary_accuracy: 0.7182 - val_loss: 0.5831 - val_binary_accuracy: 0.7299\n",
      "Epoch 8/10\n",
      "106168/106168 [==============================] - 1s 11us/step - loss: 0.5965 - binary_accuracy: 0.7182 - val_loss: 0.5826 - val_binary_accuracy: 0.7299\n",
      "Epoch 9/10\n",
      "106168/106168 [==============================] - 1s 11us/step - loss: 0.5959 - binary_accuracy: 0.7182 - val_loss: 0.5823 - val_binary_accuracy: 0.7299\n",
      "Epoch 10/10\n",
      "106168/106168 [==============================] - 1s 11us/step - loss: 0.5951 - binary_accuracy: 0.7182 - val_loss: 0.5823 - val_binary_accuracy: 0.7299\n"
     ]
    }
   ],
   "source": [
    "history = model.fit(X_train, y_train, epochs=10, batch_size=2**16, \n",
    "                    callbacks = [earlystop], validation_data=(X_test, y_test))"
   ]
  },
  {
   "cell_type": "code",
   "execution_count": 399,
   "metadata": {},
   "outputs": [
    {
     "name": "stdout",
     "output_type": "stream",
     "text": [
      "dict_keys(['val_loss', 'val_binary_accuracy', 'loss', 'binary_accuracy'])\n"
     ]
    },
    {
     "data": {
      "image/png": "[encoded data removed]",
      "text/plain": [
       "<matplotlib.figure.Figure at 0x1a877e46470>"
      ]
     },
     "metadata": {},
     "output_type": "display_data"
    }
   ],
   "source": [
    "print(history.history.keys())\n",
    "\n",
    "\n",
    "plt.plot(history.history['loss'], c = \"orange\")\n",
    "plt.title('Neural network loss and accuracy')\n",
    "plt.ylabel('loss')\n",
    "\n",
    "plt.xlabel('epoch')\n",
    "\n",
    "\n",
    "\n",
    "\n",
    "plt.plot(history.history['binary_accuracy'], c = \"purple\")\n",
    "plt.legend(['train_loss', 'train_acc'], loc='center')\n",
    "\n",
    "\n",
    "plt.show()"
   ]
  },
  {
   "cell_type": "code",
   "execution_count": 400,
   "metadata": {},
   "outputs": [],
   "source": [
    "pred = model.predict(X_test)"
   ]
  },
  {
   "cell_type": "code",
   "execution_count": 410,
   "metadata": {},
   "outputs": [
    {
     "data": {
      "text/plain": [
       "0.7208159898001275"
      ]
     },
     "execution_count": 410,
     "metadata": {},
     "output_type": "execute_result"
    }
   ],
   "source": [
    "from sklearn.metrics import accuracy_score\n",
    "accuracy_score(np.array(y_test)[0:50000], ((np.array(pred) > 0.6) * 1)[0:50000])"
   ]
  },
  {
   "cell_type": "code",
   "execution_count": 411,
   "metadata": {},
   "outputs": [
    {
     "data": {
      "text/plain": [
       "[<matplotlib.lines.Line2D at 0x1a7e152bb70>]"
      ]
     },
     "execution_count": 411,
     "metadata": {},
     "output_type": "execute_result"
    },
    {
     "data": {
      "image/png": "[encoded data removed]",
      "text/plain": [
       "<matplotlib.figure.Figure at 0x1a87650f978>"
      ]
     },
     "metadata": {},
     "output_type": "display_data"
    }
   ],
   "source": [
    "plt.plot(X_test[0:100000, 0])\n",
    "plt.plot(np.array(y_test)[0:100000] + 1.1, c= 'pink')\n",
    "plt.plot((np.array(pred)[0:100000] > 0.5) + 1, c= 'green')"
   ]
  },
  {
   "cell_type": "code",
   "execution_count": 412,
   "metadata": {},
   "outputs": [
    {
     "data": {
      "text/plain": [
       "[<matplotlib.lines.Line2D at 0x1a830ea8048>]"
      ]
     },
     "execution_count": 412,
     "metadata": {},
     "output_type": "execute_result"
    },
    {
     "data": {
      "image/png": "[encoded data removed]",
      "text/plain": [
       "<matplotlib.figure.Figure at 0x1a7fd640470>"
      ]
     },
     "metadata": {},
     "output_type": "display_data"
    }
   ],
   "source": [
    "plt.plot(np.array(pred))"
   ]
  },
  {
   "cell_type": "code",
   "execution_count": 413,
   "metadata": {},
   "outputs": [
    {
     "data": {
      "text/plain": [
       "(106168, 499)"
      ]
     },
     "execution_count": 413,
     "metadata": {},
     "output_type": "execute_result"
    }
   ],
   "source": [
    "X_train.shape"
   ]
  },
  {
   "cell_type": "markdown",
   "metadata": {},
   "source": [
    "# USE LSTM"
   ]
  },
  {
   "cell_type": "code",
   "execution_count": 441,
   "metadata": {},
   "outputs": [],
   "source": [
    "X_train_t = X_train.reshape(X_train.shape[0], 1, -1)\n",
    "X_test_t = X_test.reshape(X_test.shape[0], 1, -1)"
   ]
  },
  {
   "cell_type": "code",
   "execution_count": 442,
   "metadata": {},
   "outputs": [],
   "source": [
    "K.clear_session()\n",
    "model = Sequential()\n",
    "model.add(LSTM(64, input_shape = (1, X_train_t.shape[2]), return_sequences=True, activation = \"relu\"))\n",
    "model.add(BatchNormalization())\n",
    "model.add(Dropout(0.2))\n",
    "model.add(LSTM(6, return_sequences = True))\n",
    "model.add(BatchNormalization())\n",
    "model.add(Dropout(0.2))\n",
    "model.add(LSTM(6, activation = \"tanh\"))\n",
    "model.add(Dense(1, activation = \"sigmoid\"))\n",
    "model.compile(loss = \"binary_crossentropy\", optimizer = \"adam\", metrics =['binary_accuracy'])\n",
    "\n",
    "early_stop = EarlyStopping(monitor='val_loss', patience=10, verbose=1, min_delta =0.01)\n",
    "reduce_lr = ReduceLROnPlateau(monitor='val_loss', factor=0.1,\n",
    "                              patience=20, min_lr=0.00001)"
   ]
  },
  {
   "cell_type": "code",
   "execution_count": 453,
   "metadata": {},
   "outputs": [
    {
     "name": "stdout",
     "output_type": "stream",
     "text": [
      "Train on 799501 samples, validate on 200000 samples\n",
      "Epoch 1/10\n",
      " - 13s - loss: 0.1654 - binary_accuracy: 0.9358 - val_loss: 0.2387 - val_binary_accuracy: 0.9234\n",
      "Epoch 2/10\n",
      " - 13s - loss: 0.1649 - binary_accuracy: 0.9359 - val_loss: 0.2507 - val_binary_accuracy: 0.9205\n",
      "Epoch 3/10\n",
      " - 12s - loss: 0.1642 - binary_accuracy: 0.9364 - val_loss: 0.2468 - val_binary_accuracy: 0.9159\n",
      "Epoch 4/10\n",
      " - 13s - loss: 0.1627 - binary_accuracy: 0.9372 - val_loss: 0.2389 - val_binary_accuracy: 0.9223\n",
      "Epoch 5/10\n",
      " - 13s - loss: 0.1617 - binary_accuracy: 0.9374 - val_loss: 0.2521 - val_binary_accuracy: 0.9241\n",
      "Epoch 6/10\n",
      " - 13s - loss: 0.1617 - binary_accuracy: 0.9374 - val_loss: 0.2498 - val_binary_accuracy: 0.9201\n",
      "Epoch 7/10\n",
      " - 13s - loss: 0.1600 - binary_accuracy: 0.9378 - val_loss: 0.2376 - val_binary_accuracy: 0.9246\n",
      "Epoch 8/10\n",
      " - 13s - loss: 0.1595 - binary_accuracy: 0.9381 - val_loss: 0.2485 - val_binary_accuracy: 0.9185\n",
      "Epoch 9/10\n",
      " - 13s - loss: 0.1588 - binary_accuracy: 0.9384 - val_loss: 0.2446 - val_binary_accuracy: 0.9242\n",
      "Epoch 10/10\n",
      " - 13s - loss: 0.1589 - binary_accuracy: 0.9384 - val_loss: 0.2464 - val_binary_accuracy: 0.9223\n"
     ]
    }
   ],
   "source": [
    "hist = model.fit(X_train_t, y_train, epochs=10, validation_data = (X_test_t, y_test),\n",
    "          batch_size=2**12, verbose=2,\n",
    "          callbacks=[early_stop, reduce_lr])"
   ]
  },
  {
   "cell_type": "code",
   "execution_count": 458,
   "metadata": {},
   "outputs": [
    {
     "name": "stdout",
     "output_type": "stream",
     "text": [
      "dict_keys(['val_loss', 'val_binary_accuracy', 'loss', 'binary_accuracy', 'lr'])\n"
     ]
    },
    {
     "data": {
      "image/png": "[encoded data removed]",
      "text/plain": [
       "<matplotlib.figure.Figure at 0x1abeb74bb00>"
      ]
     },
     "metadata": {},
     "output_type": "display_data"
    }
   ],
   "source": [
    "print(hist.history.keys())\n",
    "\n",
    "\n",
    "plt.plot(hist.history['loss'], c = \"orange\")\n",
    "plt.title('Neural network loss and accuracy')\n",
    "plt.ylabel('loss')\n",
    "\n",
    "plt.xlabel('epoch')\n",
    "\n",
    "\n",
    "\n",
    "\n",
    "plt.plot(hist.history['binary_accuracy'], c = \"purple\")\n",
    "plt.legend(['train_loss', 'train_acc'], loc='center')\n",
    "\n",
    "\n",
    "plt.show()"
   ]
  },
  {
   "cell_type": "code",
   "execution_count": 470,
   "metadata": {},
   "outputs": [],
   "source": [
    "pred = model.predict(X_test_t)"
   ]
  },
  {
   "cell_type": "code",
   "execution_count": 472,
   "metadata": {},
   "outputs": [
    {
     "data": {
      "text/plain": [
       "array([0.99811006, 0.99779093, 0.99752635, ..., 0.9937296 , 0.9929616 ,\n",
       "       0.99229926], dtype=float32)"
      ]
     },
     "execution_count": 472,
     "metadata": {},
     "output_type": "execute_result"
    }
   ],
   "source": [
    "pred.reshape(-1)"
   ]
  },
  {
   "cell_type": "code",
   "execution_count": 646,
   "metadata": {},
   "outputs": [
    {
     "data": {
      "text/plain": [
       "0.94004"
      ]
     },
     "execution_count": 646,
     "metadata": {},
     "output_type": "execute_result"
    }
   ],
   "source": [
    "# remove noise with rolling mean\n",
    "smooth_data = pd.Series(pred.reshape(-1)> 0.5).rolling(window=200, center = True).median()\n",
    "from sklearn.metrics import accuracy_score\n",
    "accuracy_score(y_test.reshape(-1)[0:100000], smooth_data.values.astype(int)[0:100000])"
   ]
  },
  {
   "cell_type": "code",
   "execution_count": 647,
   "metadata": {},
   "outputs": [
    {
     "data": {
      "text/plain": [
       "[<matplotlib.lines.Line2D at 0x1abc26ff6d8>]"
      ]
     },
     "execution_count": 647,
     "metadata": {},
     "output_type": "execute_result"
    },
    {
     "data": {
      "image/png": "[encoded data removed]",
      "text/plain": [
       "<matplotlib.figure.Figure at 0x1abc45e0080>"
      ]
     },
     "metadata": {},
     "output_type": "display_data"
    }
   ],
   "source": [
    "plt.plot((y_test.reshape(-1)> 0.5)[0:20000])\n",
    "plt.plot(np.arange(0, 20000), smooth_data[:20000])"
   ]
  },
  {
   "cell_type": "code",
   "execution_count": 648,
   "metadata": {},
   "outputs": [
    {
     "data": {
      "text/plain": [
       "array([-2147483648, -2147483648, -2147483648, ..., -2147483648,\n",
       "       -2147483648, -2147483648])"
      ]
     },
     "execution_count": 648,
     "metadata": {},
     "output_type": "execute_result"
    }
   ],
   "source": [
    "smooth_data.values.astype(int)"
   ]
  },
  {
   "cell_type": "code",
   "execution_count": 649,
   "metadata": {},
   "outputs": [
    {
     "data": {
      "text/plain": [
       "[<matplotlib.lines.Line2D at 0x1abd544bef0>]"
      ]
     },
     "execution_count": 649,
     "metadata": {},
     "output_type": "execute_result"
    },
    {
     "data": {
      "image/png": "[encoded data removed]",
      "text/plain": [
       "<matplotlib.figure.Figure at 0x1abc26da2b0>"
      ]
     },
     "metadata": {},
     "output_type": "display_data"
    }
   ],
   "source": [
    "plt.plot(smooth_data)"
   ]
  },
  {
   "cell_type": "code",
   "execution_count": 650,
   "metadata": {},
   "outputs": [
    {
     "data": {
      "text/plain": [
       "0.92862"
      ]
     },
     "execution_count": 650,
     "metadata": {},
     "output_type": "execute_result"
    }
   ],
   "source": [
    "from sklearn.metrics import accuracy_score\n",
    "accuracy_score(np.array(y_test)[0:50000], ((np.array(pred) > 0.5) * 1)[0:50000])"
   ]
  },
  {
   "cell_type": "code",
   "execution_count": 652,
   "metadata": {},
   "outputs": [
    {
     "data": {
      "text/plain": [
       "[<matplotlib.lines.Line2D at 0x1abd9ef86d8>]"
      ]
     },
     "execution_count": 652,
     "metadata": {},
     "output_type": "execute_result"
    },
    {
     "data": {
      "image/png": "[encoded data removed]",
      "text/plain": [
       "<matplotlib.figure.Figure at 0x1abd549fb38>"
      ]
     },
     "metadata": {},
     "output_type": "display_data"
    }
   ],
   "source": [
    "plt.plot(X_test[0:100000, 0])\n",
    "plt.plot(np.array(y_test)[0:100000] + 1.1, c= 'pink')\n",
    "plt.plot((np.array(pred)[0:100000] > 0.7) + 1, c= 'green')\n",
    "plt.plot(smooth_data.values.astype(int)[: 100000] + 1.2, c= 'red')"
   ]
  },
  {
   "cell_type": "code",
   "execution_count": 653,
   "metadata": {},
   "outputs": [
    {
     "data": {
      "image/png": "[encoded data removed]",
      "text/plain": [
       "<matplotlib.figure.Figure at 0x1abd542b358>"
      ]
     },
     "metadata": {},
     "output_type": "display_data"
    }
   ],
   "source": [
    "\n",
    "#plt.plot(np.array(df.iloc[0:200000, 3]))\n",
    "\n",
    "ss = 3\n",
    "\n",
    "y1 = y_test[0:100000, 0]*ss - 0.5*ss\n",
    "xx = np.linspace(0, len(y1) / 200000 *4,num = len(y1) )\n",
    "y2 = X_test[0:100000, 0]\n",
    "\n",
    "\n",
    "fig = plt.figure(figsize = (10,2))\n",
    "ax = fig.add_subplot(1, 1, 1)\n",
    "\n",
    "# Hide the right and top spines\n",
    "ax.spines['right'].set_visible(False)\n",
    "ax.spines['top'].set_visible(False)\n",
    "\n",
    "# Only show ticks on the left and bottom spines\n",
    "ax.yaxis.set_ticks_position('left')\n",
    "ax.xaxis.set_ticks_position('bottom')\n",
    "ax.plot(xx, y2, linewidth = 0.9, c = 'black')\n",
    "ax.fill_between(xx,y1,-0.5*ss, alpha = 0.5, linewidth = 0)\n",
    "ax.set_xlabel(\"Time (s)\")\n",
    "ax.set_ylabel(\"Scaled Accleration\")\n",
    "#ax.set_ylim(-0.5, 1.5)\n",
    "#plt.xticks([])\n",
    "#plt.yticks([])\n",
    "\n",
    "\n",
    "plt.savefig(os.path.join(figDir, \"NNSeq_test.png\"), dpi = 500)"
   ]
  },
  {
   "cell_type": "code",
   "execution_count": 654,
   "metadata": {},
   "outputs": [
    {
     "data": {
      "image/png": "[encoded data removed]",
      "text/plain": [
       "<matplotlib.figure.Figure at 0x1abd9f23fd0>"
      ]
     },
     "metadata": {},
     "output_type": "display_data"
    }
   ],
   "source": [
    "\n",
    "#plt.plot(np.array(df.iloc[0:200000, 3]))\n",
    "\n",
    "ss = 3\n",
    "\n",
    "# y1 = (np.array(pred)[0:100000, 0] > 0.5)*ss - 0.5*ss\n",
    "y1 = smooth_data[0:100000] *ss - 0.5*ss\n",
    "xx = np.linspace(0, len(y1) / 200000 *4,num = len(y1) )\n",
    "y2 = X_test[0:100000, 0]\n",
    "\n",
    "\n",
    "fig = plt.figure(figsize = (10,2))\n",
    "ax = fig.add_subplot(1, 1, 1)\n",
    "\n",
    "# Hide the right and top spines\n",
    "ax.spines['right'].set_visible(False)\n",
    "ax.spines['top'].set_visible(False)\n",
    "\n",
    "# Only show ticks on the left and bottom spines\n",
    "ax.yaxis.set_ticks_position('left')\n",
    "ax.xaxis.set_ticks_position('bottom')\n",
    "ax.plot(xx, y2, linewidth = 0.9, c = 'black')\n",
    "ax.fill_between(xx,y1,-0.5*ss, alpha = 0.5, linewidth = 0, color = 'purple')\n",
    "ax.set_xlabel(\"Time (s)\")\n",
    "ax.set_ylabel(\"Scaled Accleration\")\n",
    "#ax.set_ylim(-0.5, 1.5)\n",
    "#plt.xticks([])\n",
    "#plt.yticks([])\n",
    "plt.tight_layout()\n",
    "\n",
    "plt.savefig(os.path.join(figDir, \"NNSeq_pred.png\"), dpi = 500)"
   ]
  },
  {
   "cell_type": "markdown",
   "metadata": {},
   "source": [
    "# plot accuracy of diff networks"
   ]
  },
  {
   "cell_type": "code",
   "execution_count": 655,
   "metadata": {},
   "outputs": [],
   "source": [
    "DenseFff = 73\n",
    "lstmMod = 94\n",
    "Conv1D = 90"
   ]
  },
  {
   "cell_type": "code",
   "execution_count": 657,
   "metadata": {},
   "outputs": [
    {
     "data": {
      "image/png": "[encoded data removed]",
      "text/plain": [
       "<matplotlib.figure.Figure at 0x1abe2f403c8>"
      ]
     },
     "metadata": {},
     "output_type": "display_data"
    }
   ],
   "source": [
    "fig, ax = plt.subplots(figsize = [3,2])\n",
    "\n",
    "# Example data\n",
    "models = (\"Recurrent\", \"1D Convolution\", \" \")\n",
    "y_pos = np.arange(len(models))\n",
    "performance = np.array([94, 90, 73])\n",
    "\n",
    "\n",
    "ax.barh(y_pos, performance, align='center',\n",
    "        color='grey', ecolor='black', height = 0.4)\n",
    "ax.set_yticks(y_pos)\n",
    "ax.set_yticklabels(models)\n",
    "ax.invert_yaxis()  # labels read top-to-bottom\n",
    "ax.set_xlabel('Accuracy')\n",
    "ax.spines['right'].set_visible(False)\n",
    "ax.spines['top'].set_visible(False)\n",
    "ax.spines['left'].set_visible(False)\n",
    "ax.yaxis.set_ticks_position('none') \n",
    "ax.set_xlim(0, 100)\n",
    "\n",
    "for i, v in enumerate(performance):\n",
    "    ax.text(v + 2, i + 0.1, str(v) + \"%\", color='black')\n",
    "    \n",
    "ax.annotate('Feedforward\\n          Dense', xy=(-69, 2.3), annotation_clip=False)\n",
    "\n",
    "plt.tight_layout()\n",
    "fig.savefig(os.path.join(figDir, \"NNSeq_Perf.svg\"), transparent = True)"
   ]
  },
  {
   "cell_type": "code",
   "execution_count": 535,
   "metadata": {},
   "outputs": [
    {
     "data": {
      "text/plain": [
       "'D:\\\\Dropbox\\\\SonicationBehavior\\\\SonBehFigs'"
      ]
     },
     "execution_count": 535,
     "metadata": {},
     "output_type": "execute_result"
    }
   ],
   "source": [
    "figDir"
   ]
  }
 ],
 "metadata": {
  "kernelspec": {
   "display_name": "deeplearning",
   "language": "python",
   "name": "deeplearning"
  },
  "language_info": {
   "codemirror_mode": {
    "name": "ipython",
    "version": 3
   },
   "file_extension": ".py",
   "mimetype": "text/x-python",
   "name": "python",
   "nbconvert_exporter": "python",
   "pygments_lexer": "ipython3",
   "version": "3.6.4"
  }
 },
 "nbformat": 4,
 "nbformat_minor": 2
}
